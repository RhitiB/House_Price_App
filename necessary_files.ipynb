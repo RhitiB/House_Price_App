{
 "cells": [
  {
   "cell_type": "code",
   "execution_count": null,
   "id": "ecaecb16-8fb9-4267-a9fa-9525611be665",
   "metadata": {},
   "outputs": [],
   "source": []
  }
 ],
 "metadata": {
  "kernelspec": {
   "display_name": "",
   "name": ""
  },
  "language_info": {
   "name": ""
  }
 },
 "nbformat": 4,
 "nbformat_minor": 5
}
