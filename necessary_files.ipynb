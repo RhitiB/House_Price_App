{
 "cells": [
  {
   "cell_type": "code",
   "execution_count": 1,
   "id": "ecaecb16-8fb9-4267-a9fa-9525611be665",
   "metadata": {},
   "outputs": [
    {
     "name": "stdout",
     "output_type": "stream",
     "text": [
      "Writing runtime.txt\n"
     ]
    }
   ],
   "source": [
    "%%writefile runtime.txt\n",
    "python-3.9.18\n"
   ]
  },
  {
   "cell_type": "code",
   "execution_count": 3,
   "id": "0aadd858-f1ef-404a-a015-9d133b53cfe5",
   "metadata": {},
   "outputs": [
    {
     "name": "stdout",
     "output_type": "stream",
     "text": [
      "Writing requirements.txt\n"
     ]
    }
   ],
   "source": [
    "%%writefile requirements.txt\n",
    "flask\n",
    "pandas\n",
    "scikit-learn\n",
    "gunicorn\n"
   ]
  },
  {
   "cell_type": "code",
   "execution_count": 5,
   "id": "24aed797-6e2d-4bec-8d62-56070ed24469",
   "metadata": {},
   "outputs": [
    {
     "name": "stdout",
     "output_type": "stream",
     "text": [
      "Writing Procfile\n"
     ]
    }
   ],
   "source": [
    "%%writefile Procfile\n",
    "web: gunicorn app:app\n"
   ]
  },
  {
   "cell_type": "code",
   "execution_count": 9,
   "id": "1873fc81-017d-4169-b7fa-6b5c7c94eea0",
   "metadata": {},
   "outputs": [
    {
     "name": "stdout",
     "output_type": "stream",
     "text": [
      "Reinitialized existing Git repository in C:/Users/shils/Machine_Learning_Projects/Model_Deployment/.git/\n"
     ]
    },
    {
     "name": "stderr",
     "output_type": "stream",
     "text": [
      "warning: in the working copy of 'necessary_files.ipynb', LF will be replaced by CRLF the next time Git touches it\n"
     ]
    },
    {
     "name": "stdout",
     "output_type": "stream",
     "text": [
      "[main a0c1d97] Initial commit\n",
      " 1 file changed, 140 insertions(+), 4 deletions(-)\n"
     ]
    },
    {
     "name": "stderr",
     "output_type": "stream",
     "text": [
      "error: remote origin already exists.\n"
     ]
    },
    {
     "name": "stdout",
     "output_type": "stream",
     "text": [
      "branch 'main' set up to track 'origin/main'.\n"
     ]
    },
    {
     "name": "stderr",
     "output_type": "stream",
     "text": [
      "remote: This repository moved. Please use the new location:        \n",
      "remote:   https://github.com/RhitiB/House_Price_App.git        \n",
      "To https://github.com/RhitiB/house_price_app.git\n",
      " * [new branch]      main -> main\n"
     ]
    }
   ],
   "source": [
    "!git init\n",
    "!git add .\n",
    "!git commit -m \"Initial commit\"\n",
    "!git branch -M main\n",
    "!git remote add origin https://github.com/RhitiB/House_Price_App.git\n",
    "!git push -u origin main\n"
   ]
  },
  {
   "cell_type": "code",
   "execution_count": null,
   "id": "623badf2-cdeb-4de8-adcd-ccc7aaa56bc4",
   "metadata": {},
   "outputs": [],
   "source": [
    "!heroku login -i\n",
    "\n"
   ]
  },
  {
   "cell_type": "code",
   "execution_count": null,
   "id": "52ecaaa9-132d-41cc-a0d1-85950bc33689",
   "metadata": {},
   "outputs": [],
   "source": [
    "# If not already in the project folder\n",
    "%cd /full/path/to/house_price_app\n",
    "\n",
    "!git init\n",
    "!git add .\n",
    "!git commit -m \"deploy to heroku\"\n",
    "\n",
    "!heroku login -i\n",
    "!heroku create house-price-ml-app\n",
    "!git branch -M main\n",
    "!git push heroku main\n",
    "!heroku open\n"
   ]
  }
 ],
 "metadata": {
  "kernelspec": {
   "display_name": "Python [conda env:base] *",
   "language": "python",
   "name": "conda-base-py"
  },
  "language_info": {
   "codemirror_mode": {
    "name": "ipython",
    "version": 3
   },
   "file_extension": ".py",
   "mimetype": "text/x-python",
   "name": "python",
   "nbconvert_exporter": "python",
   "pygments_lexer": "ipython3",
   "version": "3.12.7"
  }
 },
 "nbformat": 4,
 "nbformat_minor": 5
}
