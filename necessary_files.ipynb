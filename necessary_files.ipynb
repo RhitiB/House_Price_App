{
 "cells": [
  {
   "cell_type": "code",
   "execution_count": 1,
   "id": "ecaecb16-8fb9-4267-a9fa-9525611be665",
   "metadata": {},
   "outputs": [
    {
     "name": "stdout",
     "output_type": "stream",
     "text": [
      "Writing runtime.txt\n"
     ]
    }
   ],
   "source": [
    "%%writefile runtime.txt\n",
    "python-3.9.18\n"
   ]
  },
  {
   "cell_type": "code",
   "execution_count": 1,
   "id": "0aadd858-f1ef-404a-a015-9d133b53cfe5",
   "metadata": {},
   "outputs": [
    {
     "name": "stdout",
     "output_type": "stream",
     "text": [
      "Overwriting requirements.txt\n"
     ]
    }
   ],
   "source": [
    "%%writefile requirements.txt\n",
    "streamlit==1.37.1\n",
    "pandas==2.2.2\n",
    "numpy==1.26.4\n",
    "scikit-learn==1.3.2   \n",
    "\n"
   ]
  },
  {
   "cell_type": "code",
   "execution_count": 19,
   "id": "1873fc81-017d-4169-b7fa-6b5c7c94eea0",
   "metadata": {},
   "outputs": [
    {
     "name": "stdout",
     "output_type": "stream",
     "text": [
      "Reinitialized existing Git repository in C:/Users/shils/Machine_Learning_Projects/Model_Deployment/.git/\n"
     ]
    },
    {
     "name": "stderr",
     "output_type": "stream",
     "text": [
      "warning: in the working copy of 'necessary_files.ipynb', LF will be replaced by CRLF the next time Git touches it\n"
     ]
    },
    {
     "name": "stdout",
     "output_type": "stream",
     "text": [
      "[main 7bb56ca] Initial commit\n",
      " 1 file changed, 15 insertions(+), 7 deletions(-)\n"
     ]
    },
    {
     "name": "stderr",
     "output_type": "stream",
     "text": [
      "error: remote origin already exists.\n"
     ]
    },
    {
     "name": "stdout",
     "output_type": "stream",
     "text": [
      "origin\thttps://github.com/RhitiB/house_price_app.git (fetch)\n",
      "origin\thttps://github.com/RhitiB/house_price_app.git (push)\n",
      "branch 'main' set up to track 'origin/main'.\n"
     ]
    },
    {
     "name": "stderr",
     "output_type": "stream",
     "text": [
      "remote: This repository moved. Please use the new location:        \n",
      "remote:   https://github.com/RhitiB/House_Price_App.git        \n",
      "To https://github.com/RhitiB/house_price_app.git\n",
      "   d46ac78..7bb56ca  main -> main\n"
     ]
    }
   ],
   "source": [
    "!git init\n",
    "!git add .\n",
    "!git commit -m \"Initial commit\"\n",
    "!git branch -M main\n",
    "!git remote add origin https://github.com/RhitiB/House_Price_App.git\n",
    "!git remote -v\n",
    "!git push -u origin main"
   ]
  },
  {
   "cell_type": "code",
   "execution_count": 8,
   "id": "8f3e6dfd-d0f6-4532-90f6-fc8e5c33aa71",
   "metadata": {},
   "outputs": [
    {
     "name": "stdout",
     "output_type": "stream",
     "text": [
      "[main 26d3ba7] Add Streamlit app\n",
      " 2 files changed, 49 insertions(+), 4 deletions(-)\n",
      " create mode 100644 streamlit_app.py\n"
     ]
    },
    {
     "name": "stderr",
     "output_type": "stream",
     "text": [
      "remote: This repository moved. Please use the new location:        \n",
      "remote:   https://github.com/RhitiB/House_Price_App.git        \n",
      "To https://github.com/RhitiB/house_price_app.git\n",
      "   7bb56ca..26d3ba7  main -> main\n"
     ]
    }
   ],
   "source": [
    "!git add streamlit_app.py requirements.txt\n",
    "!git commit -m \"Add Streamlit app\"\n",
    "!git push"
   ]
  },
  {
   "cell_type": "code",
   "execution_count": 4,
   "id": "bd0a16c5-f9e7-4aae-8cf1-455fcbcc930a",
   "metadata": {},
   "outputs": [
    {
     "name": "stdout",
     "output_type": "stream",
     "text": [
      "Writing streamlit_app.py\n"
     ]
    }
   ],
   "source": [
    "%%writefile streamlit_app.py\n",
    "import streamlit as st\n",
    "import pandas as pd\n",
    "import pickle\n",
    "from pathlib import Path\n",
    "\n",
    "st.set_page_config(page_title=\"House Price Predictor\", page_icon=\"🏠\", layout=\"centered\")\n",
    "\n",
    "@st.cache_resource\n",
    "def load_model():\n",
    "    # Use a relative path so it works on Streamlit Cloud/GitHub\n",
    "    model_path = Path(\"random_forest.pkl\")\n",
    "    with open(model_path, \"rb\") as f:\n",
    "        model = pickle.load(f)\n",
    "    return model\n",
    "\n",
    "model = load_model()\n",
    "\n",
    "st.title(\"🏠 House Price Predictor\")\n",
    "st.write(\"Enter property details and get a predicted price.\")\n",
    "\n",
    "with st.form(\"price_form\"):\n",
    "    age = st.number_input(\"House Age (years)\", min_value=0, max_value=120, value=10, step=1)\n",
    "    distance_MRT = st.number_input(\"Distance to nearest MRT (meters)\", min_value=0.0, max_value=20000.0, value=500.0, step=50.0)\n",
    "    convenience_stores = st.number_input(\"Convenience stores (count)\", min_value=0, max_value=50, value=5, step=1)\n",
    "    latitude = st.number_input(\"Latitude (°)\", min_value=-90.0, max_value=90.0, value=25.0, step=0.0001, format=\"%.6f\")\n",
    "    longitude = st.number_input(\"Longitude (°)\", min_value=-180.0, max_value=180.0, value=121.0, step=0.0001, format=\"%.6f\")\n",
    "    submitted = st.form_submit_button(\"Predict\")\n",
    "\n",
    "if submitted:\n",
    "    # ⚠️ Feature names MUST match the model’s training columns\n",
    "    X = pd.DataFrame([{\n",
    "        \"age\": age,\n",
    "        \"distance_MRT\": distance_MRT,\n",
    "        \"convenience_stores\": convenience_stores,\n",
    "        \"latitude\": latitude,\n",
    "        \"longitude\": longitude\n",
    "    }])\n",
    "\n",
    "    try:\n",
    "        y_pred = model.predict(X)[0]\n",
    "        st.success(f\"Estimated price: **€{y_pred:,.0f}**\")\n",
    "    except Exception as e:\n",
    "        st.error(f\"Prediction failed: {e}\")\n",
    "        st.info(\"Make sure the feature names and types match exactly what the model was trained on.\")\n"
   ]
  },
  {
   "cell_type": "code",
   "execution_count": 10,
   "id": "a83be58a-8de4-4ef9-a654-4ec6975298f4",
   "metadata": {},
   "outputs": [
    {
     "ename": "SyntaxError",
     "evalue": "invalid syntax (402828634.py, line 1)",
     "output_type": "error",
     "traceback": [
      "\u001b[1;36m  Cell \u001b[1;32mIn[10], line 1\u001b[1;36m\u001b[0m\n\u001b[1;33m    pip install -r requirements.txt\u001b[0m\n\u001b[1;37m        ^\u001b[0m\n\u001b[1;31mSyntaxError\u001b[0m\u001b[1;31m:\u001b[0m invalid syntax\n"
     ]
    }
   ],
   "source": [
    "pip install -r requirements.txt\n",
    "streamlit run streamlit_app.py"
   ]
  },
  {
   "cell_type": "code",
   "execution_count": null,
   "id": "08818534-5e72-44a6-97c3-726bb6d81eaf",
   "metadata": {},
   "outputs": [],
   "source": []
  }
 ],
 "metadata": {
  "kernelspec": {
   "display_name": "Python [conda env:base] *",
   "language": "python",
   "name": "conda-base-py"
  },
  "language_info": {
   "codemirror_mode": {
    "name": "ipython",
    "version": 3
   },
   "file_extension": ".py",
   "mimetype": "text/x-python",
   "name": "python",
   "nbconvert_exporter": "python",
   "pygments_lexer": "ipython3",
   "version": "3.12.7"
  }
 },
 "nbformat": 4,
 "nbformat_minor": 5
}
