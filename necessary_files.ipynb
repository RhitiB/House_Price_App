{
 "cells": [
  {
   "cell_type": "code",
   "execution_count": 1,
   "id": "ecaecb16-8fb9-4267-a9fa-9525611be665",
   "metadata": {},
   "outputs": [
    {
     "name": "stdout",
     "output_type": "stream",
     "text": [
      "Writing runtime.txt\n"
     ]
    }
   ],
   "source": [
    "%%writefile runtime.txt\n",
    "python-3.9.18\n"
   ]
  },
  {
   "cell_type": "code",
   "execution_count": 3,
   "id": "0aadd858-f1ef-404a-a015-9d133b53cfe5",
   "metadata": {},
   "outputs": [
    {
     "name": "stdout",
     "output_type": "stream",
     "text": [
      "Writing requirements.txt\n"
     ]
    }
   ],
   "source": [
    "%%writefile requirements.txt\n",
    "flask\n",
    "pandas\n",
    "scikit-learn\n",
    "gunicorn\n"
   ]
  },
  {
   "cell_type": "code",
   "execution_count": 5,
   "id": "24aed797-6e2d-4bec-8d62-56070ed24469",
   "metadata": {},
   "outputs": [
    {
     "name": "stdout",
     "output_type": "stream",
     "text": [
      "Writing Procfile\n"
     ]
    }
   ],
   "source": [
    "%%writefile Procfile\n",
    "web: gunicorn app:app\n"
   ]
  },
  {
   "cell_type": "code",
   "execution_count": 7,
   "id": "1873fc81-017d-4169-b7fa-6b5c7c94eea0",
   "metadata": {},
   "outputs": [
    {
     "name": "stdout",
     "output_type": "stream",
     "text": [
      "Initialized empty Git repository in C:/Users/shils/Machine_Learning_Projects/Model_Deployment/.git/\n"
     ]
    },
    {
     "name": "stderr",
     "output_type": "stream",
     "text": [
      "warning: in the working copy of '.ipynb_checkpoints/Deployment_1_Real_Estate_Price_Regression-checkpoint.ipynb', LF will be replaced by CRLF the next time Git touches it\n",
      "warning: in the working copy of '.ipynb_checkpoints/Predicting_Real_Estate_Price_model-checkpoint.ipynb', LF will be replaced by CRLF the next time Git touches it\n",
      "warning: in the working copy of '.ipynb_checkpoints/app-checkpoint.py', LF will be replaced by CRLF the next time Git touches it\n",
      "warning: in the working copy of '.ipynb_checkpoints/necessary_files-checkpoint.ipynb', LF will be replaced by CRLF the next time Git touches it\n",
      "warning: in the working copy of 'Deployment_1_Real_Estate_Price_Regression.ipynb', LF will be replaced by CRLF the next time Git touches it\n",
      "warning: in the working copy of 'Predicting_Real_Estate_Price_model.ipynb', LF will be replaced by CRLF the next time Git touches it\n",
      "warning: in the working copy of 'app.py', LF will be replaced by CRLF the next time Git touches it\n",
      "warning: in the working copy of 'necessary_files.ipynb', LF will be replaced by CRLF the next time Git touches it\n"
     ]
    },
    {
     "name": "stdout",
     "output_type": "stream",
     "text": [
      "[master (root-commit) 74c7acc] Initial commit\n",
      " 13 files changed, 2463 insertions(+)\n",
      " create mode 100644 .ipynb_checkpoints/Deployment_1_Real_Estate_Price_Regression-checkpoint.ipynb\n",
      " create mode 100644 .ipynb_checkpoints/Predicting_Real_Estate_Price_model-checkpoint.ipynb\n",
      " create mode 100644 .ipynb_checkpoints/app-checkpoint.py\n",
      " create mode 100644 .ipynb_checkpoints/necessary_files-checkpoint.ipynb\n",
      " create mode 100644 Deployment_1_Real_Estate_Price_Regression.ipynb\n",
      " create mode 100644 Predicting_Real_Estate_Price_model.ipynb\n",
      " create mode 100644 Procfile\n",
      " create mode 100644 app.py\n",
      " create mode 100644 lasso_best.pkl\n",
      " create mode 100644 necessary_files.ipynb\n",
      " create mode 100644 random_forest.pkl\n",
      " create mode 100644 requirements.txt\n",
      " create mode 100644 runtime.txt\n"
     ]
    },
    {
     "name": "stderr",
     "output_type": "stream",
     "text": [
      "remote: Repository not found.\n",
      "fatal: repository 'https://github.com/RhitiB/house_price_app.git/' not found\n"
     ]
    }
   ],
   "source": [
    "!git init\n",
    "!git add .\n",
    "!git commit -m \"Initial commit\"\n",
    "!git branch -M main\n",
    "!git remote add origin https://github.com/RhitiB/house_price_app.git\n",
    "!git push -u origin main\n"
   ]
  },
  {
   "cell_type": "code",
   "execution_count": null,
   "id": "623badf2-cdeb-4de8-adcd-ccc7aaa56bc4",
   "metadata": {},
   "outputs": [],
   "source": []
  }
 ],
 "metadata": {
  "kernelspec": {
   "display_name": "Python [conda env:base] *",
   "language": "python",
   "name": "conda-base-py"
  },
  "language_info": {
   "codemirror_mode": {
    "name": "ipython",
    "version": 3
   },
   "file_extension": ".py",
   "mimetype": "text/x-python",
   "name": "python",
   "nbconvert_exporter": "python",
   "pygments_lexer": "ipython3",
   "version": "3.12.7"
  }
 },
 "nbformat": 4,
 "nbformat_minor": 5
}
