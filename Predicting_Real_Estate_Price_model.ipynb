{
 "cells": [
  {
   "cell_type": "markdown",
   "id": "e11c9370-c7eb-4494-9419-5fc6dd0bc6d0",
   "metadata": {},
   "source": [
    "# Predicting the Real Estate Price Model"
   ]
  },
  {
   "cell_type": "code",
   "execution_count": 19,
   "id": "031be444-3c5a-46e3-b218-3472a990ab4d",
   "metadata": {},
   "outputs": [],
   "source": [
    "# Importing the necessary libraries\n",
    "import pickle\n",
    "import pandas as pd\n"
   ]
  },
  {
   "cell_type": "markdown",
   "id": "1c9e4a0e-5121-4dd6-b034-3faa46cc43f5",
   "metadata": {},
   "source": [
    "**Variables as per the Database**\n",
    "- X2=the house age (unit: year)\n",
    "- X3=the distance to the nearest MRT station (unit: meter)\n",
    "- X4=the number of convenience stores in the living circle on foot (integer)\n",
    "- X5=the geographic coordinate, latitude. (unit: degree)\n",
    "- X6=the geographic coordinate, longitude. (unit: degree)"
   ]
  },
  {
   "cell_type": "code",
   "execution_count": 105,
   "id": "7c5057cb-a171-4f1f-b304-440ac854a929",
   "metadata": {},
   "outputs": [
    {
     "name": "stdout",
     "output_type": "stream",
     "text": [
      "Loaded FEATURE_ORDER: ['X2', 'X3', 'X4', 'X5', 'X6']\n",
      "Predicted price per unit area: 58\n"
     ]
    }
   ],
   "source": [
    "with open(\"random_forest.pkl\", \"rb\") as f:\n",
    "    bundle = pickle.load(f)\n",
    "model = bundle[\"model\"]\n",
    "FEATURE_ORDER = bundle[\"feature_order\"]\n",
    "print(\"Loaded FEATURE_ORDER:\", FEATURE_ORDER)\n",
    "# Must include ALL expected keys exactly as in FEATURE_ORDER\n",
    "sample_dict = {\n",
    "    \"X2\": 600,\n",
    "    \"X3\": 200,\n",
    "    \"X4\": 500,\n",
    "    \"X5\": 121,\n",
    "    \"X6\": 12\n",
    "}\n",
    "# Quick sanity check\n",
    "#missing = [c for c in FEATURE_ORDER if c not in sample_dict]\n",
    "#extra   = [c for c in sample_dict if c not in FEATURE_ORDER]\n",
    "#print(\"Missing in sample:\", missing)\n",
    "#print(\"Extra in sample:\", extra)\n",
    "# Build row in exact order (this cannot KeyError now)\n",
    "sample_df = pd.DataFrame([[sample_dict[c] for c in FEATURE_ORDER]], columns=FEATURE_ORDER)\n",
    "price_pred = model.predict(sample_df)[0]\n",
    "print(f\"Predicted price per unit area: {price_pred:,.0f}\")\n",
    "#print(\"FEATURE_ORDER:\", FEATURE_ORDER)\n",
    "#assert \"X2\" in FEATURE_ORDER\n",
    "# Show the exact row the model sees\n",
    "#print(pd.DataFrame([sample_dict])[FEATURE_ORDER])"
   ]
  },
  {
   "cell_type": "code",
   "execution_count": null,
   "id": "a9d035b9-af25-4d11-9081-c0d025e80b9b",
   "metadata": {},
   "outputs": [],
   "source": []
  }
 ],
 "metadata": {
  "kernelspec": {
   "display_name": "Python [conda env:base] *",
   "language": "python",
   "name": "conda-base-py"
  },
  "language_info": {
   "codemirror_mode": {
    "name": "ipython",
    "version": 3
   },
   "file_extension": ".py",
   "mimetype": "text/x-python",
   "name": "python",
   "nbconvert_exporter": "python",
   "pygments_lexer": "ipython3",
   "version": "3.12.7"
  }
 },
 "nbformat": 4,
 "nbformat_minor": 5
}
